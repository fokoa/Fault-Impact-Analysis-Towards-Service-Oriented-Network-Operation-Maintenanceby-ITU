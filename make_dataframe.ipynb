{
 "cells": [
  {
   "cell_type": "code",
   "execution_count": 1,
   "id": "38a4cd11",
   "metadata": {},
   "outputs": [],
   "source": [
    "import os\n",
    "from tqdm import tqdm\n",
    "\n",
    "import numpy as np\n",
    "import pandas as pd\n",
    "\n",
    "\n",
    "SEED = 42\n",
    "plt.style.use(\"ggplot\")\n",
    "pd.options.display.max_columns = None"
   ]
  },
  {
   "cell_type": "markdown",
   "id": "3b1dd06a",
   "metadata": {},
   "source": [
    "## 1. Data"
   ]
  },
  {
   "cell_type": "code",
   "execution_count": 2,
   "id": "f16ba87a",
   "metadata": {},
   "outputs": [],
   "source": [
    "path_train = \"data/train_test_dataset_Fault Impact Analysis/\"\n",
    "path_test = \"data/validation_clean/\"\n",
    "ss_df = pd.read_csv(\"data/SampleSubmission.csv\")"
   ]
  },
  {
   "cell_type": "code",
   "execution_count": 3,
   "id": "9d336147",
   "metadata": {},
   "outputs": [],
   "source": [
    "def make_df(path):\n",
    "    df = pd.DataFrame()\n",
    "    files = [elt for elt in os.listdir(path) if os.path.isfile(os.path.join(path, elt))]\n",
    "    \n",
    "    for file in tqdm(files):\n",
    "        name = file.split(\".\")[0] # Name NE \n",
    "        idx = name.split(\"_\")[-1]  # ID NE\n",
    "        if \"train\" in path:\n",
    "            data = pd.read_csv(path+file)\n",
    "        else:\n",
    "            data = pd.read_csv(path+file, index_col=0)\n",
    "        \n",
    "        data = data.rename(columns={\"NE ID\":\"NE\"})\n",
    "        data[\"ID\"] = idx\n",
    "        df = pd.concat((df, data))\n",
    "\n",
    "    return df"
   ]
  },
  {
   "cell_type": "code",
   "execution_count": 4,
   "id": "339be306",
   "metadata": {},
   "outputs": [
    {
     "name": "stdout",
     "output_type": "stream",
     "text": [
      "Build train dataframe\n"
     ]
    },
    {
     "name": "stderr",
     "output_type": "stream",
     "text": [
      "100%|███████████████████████████████████████| 7256/7256 [12:23<00:00,  9.75it/s]\n"
     ]
    },
    {
     "name": "stdout",
     "output_type": "stream",
     "text": [
      "Build test dataframe\n"
     ]
    },
    {
     "name": "stderr",
     "output_type": "stream",
     "text": [
      "100%|███████████████████████████████████████| 1932/1932 [01:14<00:00, 25.99it/s]\n"
     ]
    }
   ],
   "source": [
    "print(\"Build train dataframe\")\n",
    "train_df = make_df(path_train)\n",
    "\n",
    "print(\"Build test dataframe\")\n",
    "test_df = make_df(path_test)"
   ]
  },
  {
   "cell_type": "code",
   "execution_count": 5,
   "id": "ab797891",
   "metadata": {},
   "outputs": [],
   "source": [
    "train_df[\"NE_ID\"] = train_df[\"NE\"].astype(str) + \"_\" + train_df[\"ID\"].astype(str)\n",
    "test_df[\"NE_ID\"] = test_df[\"NE\"].astype(str) + \"_\" + test_df[\"ID\"].astype(str)"
   ]
  },
  {
   "cell_type": "code",
   "execution_count": 6,
   "id": "624a12b4",
   "metadata": {},
   "outputs": [],
   "source": [
    "train_df = train_df.reset_index(drop=True)\n",
    "test_df = test_df.reset_index(drop=True)"
   ]
  },
  {
   "cell_type": "code",
   "execution_count": 7,
   "id": "5ca1b617",
   "metadata": {},
   "outputs": [
    {
     "name": "stdout",
     "output_type": "stream",
     "text": [
      "Train Shape: (908922, 13)\n",
      "Test Shape : (175150, 13)\n"
     ]
    }
   ],
   "source": [
    "print(f\"Train Shape: {train_df.shape}\\nTest Shape : {test_df.shape}\")"
   ]
  },
  {
   "cell_type": "code",
   "execution_count": 8,
   "id": "bd09ebc4",
   "metadata": {},
   "outputs": [],
   "source": [
    "def create_target(df):\n",
    "    tmp = df.groupby('NE_ID')['data_rate'].\\\n",
    "             rolling(window=2).\\\n",
    "             apply(lambda x: x.iloc[1] - x.iloc[0]).\\\n",
    "             fillna(0)\n",
    "    tmp = tmp.to_frame().rename({\"data_rate\":\"diff\"}, axis=1)\n",
    "    \n",
    "    df = df.reset_index().merge(tmp, left_on=[\"NE_ID\", \"index\"], right_index=True)\n",
    "    df[\"marker1\"] = df[\"diff\"]<0\n",
    "    df[\"marker2\"] = df[\"fault_duration\"]>=1\n",
    "    df[\"target\"] = (df[\"marker1\"] & df[\"marker2\"]).astype(int)\n",
    "    \n",
    "    df = df.drop([\"diff\", \"marker1\", \"marker2\"], axis=1)\n",
    "\n",
    "    return df"
   ]
  },
  {
   "cell_type": "code",
   "execution_count": 9,
   "id": "1cee8570",
   "metadata": {
    "scrolled": true
   },
   "outputs": [
    {
     "name": "stdout",
     "output_type": "stream",
     "text": [
      "CPU times: user 3min 25s, sys: 498 ms, total: 3min 26s\n",
      "Wall time: 3min 26s\n"
     ]
    }
   ],
   "source": [
    "%%time\n",
    "train_df = create_target(train_df.copy())"
   ]
  },
  {
   "cell_type": "code",
   "execution_count": 10,
   "id": "ece8e4d1",
   "metadata": {},
   "outputs": [
    {
     "name": "stdout",
     "output_type": "stream",
     "text": [
      "Train Shape: (908922, 15)\n"
     ]
    }
   ],
   "source": [
    "print(f\"Train Shape: {train_df.shape}\")"
   ]
  },
  {
   "cell_type": "code",
   "execution_count": 11,
   "id": "852b3692",
   "metadata": {},
   "outputs": [
    {
     "name": "stdout",
     "output_type": "stream",
     "text": [
      "Values Count \"Target\":\n",
      "target\n",
      "0    863207\n",
      "1     45715\n",
      "Name: count, dtype: int64\n"
     ]
    }
   ],
   "source": [
    "print(f\"Values Count \\\"Target\\\":\\n{train_df.target.value_counts()}\")"
   ]
  },
  {
   "cell_type": "code",
   "execution_count": 12,
   "id": "149a599c",
   "metadata": {},
   "outputs": [
    {
     "data": {
      "text/plain": [
       "905922"
      ]
     },
     "execution_count": 12,
     "metadata": {},
     "output_type": "execute_result"
    }
   ],
   "source": [
    "860207 + 45715"
   ]
  },
  {
   "cell_type": "code",
   "execution_count": 13,
   "id": "0a4bf898",
   "metadata": {},
   "outputs": [],
   "source": [
    "# For each NE_ID, delete timesteps which come after the first 1\n",
    "def remove_duplicate(df):\n",
    "    tmp = pd.DataFrame()\n",
    "    \n",
    "    ne_ids_1 = set(df[df.target==1][\"NE_ID\"].unique())\n",
    "    ne_ids_0 = set(df[\"NE_ID\"].unique()).difference(ne_ids_1)\n",
    "    \n",
    "    # Save NE which only have \"0\"\n",
    "    tmp = df[df.NE_ID.isin(list(ne_ids_0))]\n",
    "    \n",
    "    # First occurences of \"1\"\n",
    "    first_occ = df[df.NE_ID.isin(list(ne_ids_1))].groupby(\"NE_ID\")['target'].idxmax()\n",
    "    \n",
    "    for ne_id in tqdm(first_occ.index):\n",
    "        tmp = pd.concat((tmp, df[(df.NE_ID==ne_id) & (df[\"index\"]<=first_occ.loc[ne_id])] ))\n",
    "    \n",
    "    tmp = tmp.drop([\"index\"], axis=1).reset_index(drop=True)\n",
    "        \n",
    "    return tmp"
   ]
  },
  {
   "cell_type": "code",
   "execution_count": 14,
   "id": "00f47ec4",
   "metadata": {},
   "outputs": [
    {
     "name": "stderr",
     "output_type": "stream",
     "text": [
      "100%|███████████████████████████████████████| 4733/4733 [26:55<00:00,  2.93it/s]\n"
     ]
    }
   ],
   "source": [
    "train_df = remove_duplicate(train_df.copy())"
   ]
  },
  {
   "cell_type": "code",
   "execution_count": 15,
   "id": "d7c82353",
   "metadata": {},
   "outputs": [
    {
     "name": "stdout",
     "output_type": "stream",
     "text": [
      "Values Count \"Target\":\n",
      "target\n",
      "0    818320\n",
      "1      4733\n",
      "Name: count, dtype: int64\n"
     ]
    }
   ],
   "source": [
    "print(f\"Values Count \\\"Target\\\":\\n{train_df.target.value_counts()}\")"
   ]
  },
  {
   "cell_type": "code",
   "execution_count": 16,
   "id": "684fa892",
   "metadata": {},
   "outputs": [
    {
     "name": "stdout",
     "output_type": "stream",
     "text": [
      "Number of NEs: 7256\n"
     ]
    }
   ],
   "source": [
    "print(f\"Number of NEs: {train_df.NE_ID.unique().shape[0]}\")"
   ]
  },
  {
   "cell_type": "code",
   "execution_count": 17,
   "id": "b60accbe",
   "metadata": {},
   "outputs": [
    {
     "data": {
      "text/plain": [
       "NE                            0\n",
       "endTime                       0\n",
       "access_success_rate        5439\n",
       "resource_utilition_rate    5439\n",
       "TA                         5439\n",
       "bler                       5439\n",
       "cqi                        5439\n",
       "mcs                        5439\n",
       "data_rate                     0\n",
       "fault_duration                0\n",
       "relation                      0\n",
       "ID                            0\n",
       "NE_ID                         0\n",
       "target                        0\n",
       "dtype: int64"
      ]
     },
     "execution_count": 17,
     "metadata": {},
     "output_type": "execute_result"
    }
   ],
   "source": [
    "train_df.isna().sum()"
   ]
  },
  {
   "cell_type": "code",
   "execution_count": 18,
   "id": "5fbce010",
   "metadata": {},
   "outputs": [
    {
     "data": {
      "text/plain": [
       "NE                             0\n",
       "endTime                        0\n",
       "access_success_rate        50869\n",
       "resource_utilition_rate     2030\n",
       "TA                          2722\n",
       "bler                        2419\n",
       "cqi                         2359\n",
       "mcs                         2360\n",
       "data_rate                   2905\n",
       "fault_duration                 0\n",
       "relation                       0\n",
       "ID                             0\n",
       "NE_ID                          0\n",
       "dtype: int64"
      ]
     },
     "execution_count": 18,
     "metadata": {},
     "output_type": "execute_result"
    }
   ],
   "source": [
    "test_df.isna().sum()"
   ]
  },
  {
   "cell_type": "markdown",
   "id": "3c9e12ab",
   "metadata": {},
   "source": [
    "### Fillna in train"
   ]
  },
  {
   "cell_type": "code",
   "execution_count": 19,
   "id": "e32fef24",
   "metadata": {},
   "outputs": [
    {
     "name": "stderr",
     "output_type": "stream",
     "text": [
      "100%|█████████████████████████████████████████| 489/489 [03:08<00:00,  2.60it/s]\n"
     ]
    }
   ],
   "source": [
    "# Fill \"TA\"\n",
    "ne_ids = train_df[train_df.TA.isna()][\"NE_ID\"].unique()\n",
    "for ne_id in tqdm(ne_ids):\n",
    "    values = train_df[train_df.NE_ID==ne_id][\"TA\"].interpolate(method=\"spline\", order=2, limit_direction=\"both\")\n",
    "    train_df.loc[train_df.NE_ID==ne_id, \"TA\"] = values\n",
    "\n",
    "train_df[\"TA\"] = train_df[\"TA\"].fillna(0)"
   ]
  },
  {
   "cell_type": "code",
   "execution_count": 20,
   "id": "e45a6201",
   "metadata": {},
   "outputs": [
    {
     "name": "stderr",
     "output_type": "stream",
     "text": [
      "100%|█████████████████████████████████████████| 489/489 [03:11<00:00,  2.55it/s]\n"
     ]
    }
   ],
   "source": [
    "# Fill \"bler\"\n",
    "ne_ids = train_df[train_df.bler.isna()][\"NE_ID\"].unique()\n",
    "for ne_id in tqdm(ne_ids):    \n",
    "    values = train_df[train_df.NE_ID==ne_id][\"bler\"].interpolate(method=\"spline\", order=2, limit_direction=\"both\")\n",
    "    train_df.loc[train_df.NE_ID==ne_id, \"bler\"] = values\n",
    "train_df[\"bler\"] = train_df[\"bler\"].fillna(0)"
   ]
  },
  {
   "cell_type": "code",
   "execution_count": 21,
   "id": "8a8d3547",
   "metadata": {},
   "outputs": [
    {
     "name": "stderr",
     "output_type": "stream",
     "text": [
      "100%|█████████████████████████████████████████| 489/489 [03:06<00:00,  2.62it/s]\n"
     ]
    }
   ],
   "source": [
    "# Fill \"cqi\"\n",
    "ne_ids = train_df[train_df.cqi.isna()][\"NE_ID\"].unique()\n",
    "for ne_id in tqdm(ne_ids):\n",
    "    values = train_df[train_df.NE_ID==ne_id][\"cqi\"].interpolate(method=\"spline\", order=2, limit_direction=\"both\")\n",
    "    train_df.loc[train_df.NE_ID==ne_id, \"cqi\"] = values\n",
    "train_df[\"cqi\"] = train_df[\"cqi\"].fillna(0)"
   ]
  },
  {
   "cell_type": "code",
   "execution_count": 22,
   "id": "ef316879",
   "metadata": {},
   "outputs": [
    {
     "name": "stderr",
     "output_type": "stream",
     "text": [
      "100%|█████████████████████████████████████████| 489/489 [03:11<00:00,  2.55it/s]\n"
     ]
    }
   ],
   "source": [
    "# Fill \"mcs\"\n",
    "ne_ids = train_df[train_df.mcs.isna()][\"NE_ID\"].unique()\n",
    "for ne_id in tqdm(ne_ids):\n",
    "    values = train_df[train_df.NE_ID==ne_id][\"mcs\"].interpolate(method=\"spline\", order=2, limit_direction=\"both\")\n",
    "    train_df.loc[train_df.NE_ID==ne_id, \"mcs\"] = values\n",
    "train_df[\"mcs\"] = train_df[\"mcs\"].fillna(0)"
   ]
  },
  {
   "cell_type": "code",
   "execution_count": 23,
   "id": "3c35d6d8",
   "metadata": {},
   "outputs": [
    {
     "name": "stderr",
     "output_type": "stream",
     "text": [
      "100%|█████████████████████████████████████████| 489/489 [03:15<00:00,  2.50it/s]\n"
     ]
    }
   ],
   "source": [
    "# Fill \"resource_utilition_rate\"\n",
    "ne_ids = train_df[train_df.resource_utilition_rate.isna()][\"NE_ID\"].unique()\n",
    "for ne_id in tqdm(ne_ids):\n",
    "    values = train_df[train_df.NE_ID==ne_id][\"resource_utilition_rate\"].interpolate(method=\"spline\", order=2, limit_direction=\"both\")\n",
    "    train_df.loc[train_df.NE_ID==ne_id, \"resource_utilition_rate\"] = values\n",
    "train_df[\"resource_utilition_rate\"] = train_df[\"resource_utilition_rate\"].fillna(0)"
   ]
  },
  {
   "cell_type": "code",
   "execution_count": 24,
   "id": "d9828e64",
   "metadata": {},
   "outputs": [],
   "source": [
    "# Mask last time step of each NEs\n",
    "tmp = train_df.groupby(\"NE_ID\").max()['endTime'].to_frame()\n",
    "train_df = train_df.merge(tmp, on=[\"NE_ID\", \"endTime\"], how=\"left\", indicator=True)\n",
    "cols = [\"access_success_rate\", \"resource_utilition_rate\", \"data_rate\", \"fault_duration\", \"relation\", \"TA\", \"bler\", \"cqi\", \"mcs\"]\n",
    "train_df.loc[train_df._merge==\"both\", cols] = -1\n",
    "train_df = train_df.drop([\"_merge\"], axis=1)"
   ]
  },
  {
   "cell_type": "markdown",
   "id": "49754d4a",
   "metadata": {},
   "source": [
    "### Fillna in test"
   ]
  },
  {
   "cell_type": "code",
   "execution_count": 25,
   "id": "80226b76",
   "metadata": {},
   "outputs": [],
   "source": [
    "# Mask last time step of each NEs\n",
    "tmp = test_df.groupby(\"NE_ID\").max()['endTime'].to_frame()\n",
    "test_df = test_df.merge(tmp, on=[\"NE_ID\", \"endTime\"], how=\"left\", indicator=True)\n",
    "cols = [\"access_success_rate\", \"resource_utilition_rate\", \"data_rate\", \"fault_duration\", \"relation\", \"TA\", \"bler\", \"cqi\", \"mcs\"]\n",
    "test_df.loc[test_df._merge==\"both\", cols] = -1\n",
    "test_df = test_df.drop([\"_merge\"], axis=1)"
   ]
  },
  {
   "cell_type": "code",
   "execution_count": 26,
   "id": "d9843992",
   "metadata": {},
   "outputs": [],
   "source": [
    "tmp = (test_df.TA.isna() & test_df.bler.isna() & test_df.cqi.isna() & test_df.mcs.isna())\n",
    "index = tmp[tmp.values == True].index\n",
    "test_df = test_df.drop(index, axis=0)"
   ]
  },
  {
   "cell_type": "code",
   "execution_count": 27,
   "id": "e13fab49",
   "metadata": {},
   "outputs": [],
   "source": [
    "# Fill na \"bler\"\n",
    "ne_ids = test_df[test_df.bler.isna()][\"NE_ID\"].unique()\n",
    "for ne_id in ne_ids:\n",
    "    values = test_df[test_df.NE_ID==ne_id][\"bler\"].interpolate(method=\"spline\", order=2)\n",
    "    test_df.loc[test_df.NE_ID==ne_id, \"bler\"] = values\n",
    "# test_df.loc[test_df.bler.isna(), \"bler\"] = 0\n",
    "\n",
    "# fill na \"mcs\"\n",
    "ne_ids = test_df[test_df.mcs.isna()][\"NE_ID\"].unique()\n",
    "for ne_id in ne_ids:\n",
    "    values = test_df[test_df.NE_ID==ne_id][\"mcs\"].interpolate(method=\"spline\", order=2)\n",
    "    test_df.loc[test_df.NE_ID==ne_id, \"mcs\"] = values\n",
    "\n",
    "# fill na \"TA\"\n",
    "ne_ids = test_df[test_df.TA.isna()][\"NE_ID\"].unique()\n",
    "for ne_id in ne_ids:\n",
    "    if ne_id == \"B0108-25_3\":\n",
    "        test_df.loc[test_df.NE_ID==ne_id, \"TA\"] = 1\n",
    "    else:\n",
    "        values = test_df[test_df.NE_ID==ne_id][\"TA\"].interpolate(method=\"spline\", order=3, limit_direction=\"both\")\n",
    "        test_df.loc[test_df.NE_ID==ne_id, \"TA\"] = values"
   ]
  },
  {
   "cell_type": "code",
   "execution_count": 28,
   "id": "ab2c19cb",
   "metadata": {},
   "outputs": [
    {
     "name": "stderr",
     "output_type": "stream",
     "text": [
      "100%|███████████████████████████████████████████| 21/21 [00:02<00:00, 10.44it/s]\n"
     ]
    }
   ],
   "source": [
    "# Fill \"resource_utilition_rate\"\n",
    "ne_ids = test_df[test_df.resource_utilition_rate.isna()][\"NE_ID\"].unique()\n",
    "for ne_id in tqdm(ne_ids):\n",
    "    values = test_df[test_df.NE_ID==ne_id][\"resource_utilition_rate\"].interpolate(method=\"spline\", order=2, limit_direction=\"both\")\n",
    "    test_df.loc[test_df.NE_ID==ne_id, \"resource_utilition_rate\"] = values\n",
    "test_df[\"resource_utilition_rate\"] = test_df[\"resource_utilition_rate\"].fillna(0)"
   ]
  },
  {
   "cell_type": "code",
   "execution_count": 29,
   "id": "d7accddb",
   "metadata": {},
   "outputs": [
    {
     "name": "stderr",
     "output_type": "stream",
     "text": [
      "100%|███████████████████████████████████████████| 22/22 [00:02<00:00,  8.19it/s]\n"
     ]
    }
   ],
   "source": [
    "# Fill \"data_rate\"\n",
    "ne_ids = test_df[test_df.data_rate.isna()][\"NE_ID\"].unique()\n",
    "for ne_id in tqdm(ne_ids):\n",
    "    values = test_df[test_df.NE_ID==ne_id][\"data_rate\"].interpolate(method=\"spline\", order=2, limit_direction=\"both\")\n",
    "    test_df.loc[test_df.NE_ID==ne_id, \"data_rate\"] = values\n",
    "test_df[\"data_rate\"] = test_df[\"data_rate\"].fillna(0)"
   ]
  },
  {
   "cell_type": "code",
   "execution_count": 30,
   "id": "a6e5a5cd",
   "metadata": {},
   "outputs": [
    {
     "data": {
      "text/plain": [
       "NE                            0\n",
       "endTime                       0\n",
       "access_success_rate        5262\n",
       "resource_utilition_rate       0\n",
       "TA                            0\n",
       "bler                          0\n",
       "cqi                           0\n",
       "mcs                           0\n",
       "data_rate                     0\n",
       "fault_duration                0\n",
       "relation                      0\n",
       "ID                            0\n",
       "NE_ID                         0\n",
       "target                        0\n",
       "dtype: int64"
      ]
     },
     "execution_count": 30,
     "metadata": {},
     "output_type": "execute_result"
    }
   ],
   "source": [
    "train_df.isna().sum()"
   ]
  },
  {
   "cell_type": "code",
   "execution_count": 31,
   "id": "108c575e",
   "metadata": {},
   "outputs": [
    {
     "data": {
      "text/plain": [
       "NE                             0\n",
       "endTime                        0\n",
       "access_success_rate        48510\n",
       "resource_utilition_rate        0\n",
       "TA                             0\n",
       "bler                           0\n",
       "cqi                            0\n",
       "mcs                            0\n",
       "data_rate                      0\n",
       "fault_duration                 0\n",
       "relation                       0\n",
       "ID                             0\n",
       "NE_ID                          0\n",
       "dtype: int64"
      ]
     },
     "execution_count": 31,
     "metadata": {},
     "output_type": "execute_result"
    }
   ],
   "source": [
    "test_df.isna().sum()"
   ]
  },
  {
   "cell_type": "code",
   "execution_count": 32,
   "id": "29cc4e62",
   "metadata": {},
   "outputs": [],
   "source": [
    "to_dels = [\"access_success_rate\"]\n",
    "test_df = test_df.drop(to_dels, axis=1)\n",
    "train_df = train_df.drop(to_dels, axis=1)"
   ]
  },
  {
   "cell_type": "markdown",
   "id": "a01d1abb",
   "metadata": {},
   "source": [
    "### Make Dataframes Persistent"
   ]
  },
  {
   "cell_type": "code",
   "execution_count": 33,
   "id": "343df3e1",
   "metadata": {},
   "outputs": [],
   "source": [
    "train_df.to_csv(\"data/train.csv\", index=False)\n",
    "test_df.to_csv(\"data/test.csv\", index=False)"
   ]
  },
  {
   "cell_type": "code",
   "execution_count": 34,
   "id": "08d334f8",
   "metadata": {
    "scrolled": false
   },
   "outputs": [
    {
     "data": {
      "text/html": [
       "<div>\n",
       "<style scoped>\n",
       "    .dataframe tbody tr th:only-of-type {\n",
       "        vertical-align: middle;\n",
       "    }\n",
       "\n",
       "    .dataframe tbody tr th {\n",
       "        vertical-align: top;\n",
       "    }\n",
       "\n",
       "    .dataframe thead th {\n",
       "        text-align: right;\n",
       "    }\n",
       "</style>\n",
       "<table border=\"1\" class=\"dataframe\">\n",
       "  <thead>\n",
       "    <tr style=\"text-align: right;\">\n",
       "      <th></th>\n",
       "      <th>NE</th>\n",
       "      <th>endTime</th>\n",
       "      <th>resource_utilition_rate</th>\n",
       "      <th>TA</th>\n",
       "      <th>bler</th>\n",
       "      <th>cqi</th>\n",
       "      <th>mcs</th>\n",
       "      <th>data_rate</th>\n",
       "      <th>fault_duration</th>\n",
       "      <th>relation</th>\n",
       "      <th>ID</th>\n",
       "      <th>NE_ID</th>\n",
       "      <th>target</th>\n",
       "    </tr>\n",
       "  </thead>\n",
       "  <tbody>\n",
       "    <tr>\n",
       "      <th>0</th>\n",
       "      <td>B0010-72</td>\n",
       "      <td>2023-02-09 01:00:00</td>\n",
       "      <td>1.025</td>\n",
       "      <td>3.389423</td>\n",
       "      <td>10.727969</td>\n",
       "      <td>7.492512</td>\n",
       "      <td>3.002243</td>\n",
       "      <td>17.988247</td>\n",
       "      <td>0.0</td>\n",
       "      <td>0.0</td>\n",
       "      <td>1</td>\n",
       "      <td>B0010-72_1</td>\n",
       "      <td>0</td>\n",
       "    </tr>\n",
       "    <tr>\n",
       "      <th>1</th>\n",
       "      <td>B0010-72</td>\n",
       "      <td>2023-02-09 02:00:00</td>\n",
       "      <td>0.854</td>\n",
       "      <td>3.006494</td>\n",
       "      <td>8.157557</td>\n",
       "      <td>7.882693</td>\n",
       "      <td>1.758560</td>\n",
       "      <td>12.360708</td>\n",
       "      <td>0.0</td>\n",
       "      <td>0.0</td>\n",
       "      <td>1</td>\n",
       "      <td>B0010-72_1</td>\n",
       "      <td>0</td>\n",
       "    </tr>\n",
       "    <tr>\n",
       "      <th>2</th>\n",
       "      <td>B0010-72</td>\n",
       "      <td>2023-02-09 03:00:00</td>\n",
       "      <td>0.819</td>\n",
       "      <td>3.307018</td>\n",
       "      <td>17.902962</td>\n",
       "      <td>7.672714</td>\n",
       "      <td>1.140774</td>\n",
       "      <td>10.075042</td>\n",
       "      <td>0.0</td>\n",
       "      <td>0.0</td>\n",
       "      <td>1</td>\n",
       "      <td>B0010-72_1</td>\n",
       "      <td>0</td>\n",
       "    </tr>\n",
       "    <tr>\n",
       "      <th>3</th>\n",
       "      <td>B0010-72</td>\n",
       "      <td>2023-02-09 04:00:00</td>\n",
       "      <td>0.823</td>\n",
       "      <td>2.185185</td>\n",
       "      <td>8.175228</td>\n",
       "      <td>7.193010</td>\n",
       "      <td>2.903567</td>\n",
       "      <td>21.281706</td>\n",
       "      <td>0.0</td>\n",
       "      <td>0.0</td>\n",
       "      <td>1</td>\n",
       "      <td>B0010-72_1</td>\n",
       "      <td>0</td>\n",
       "    </tr>\n",
       "    <tr>\n",
       "      <th>4</th>\n",
       "      <td>B0010-72</td>\n",
       "      <td>2023-02-09 05:00:00</td>\n",
       "      <td>0.893</td>\n",
       "      <td>2.350515</td>\n",
       "      <td>7.645895</td>\n",
       "      <td>8.975481</td>\n",
       "      <td>5.679832</td>\n",
       "      <td>16.526131</td>\n",
       "      <td>0.0</td>\n",
       "      <td>0.0</td>\n",
       "      <td>1</td>\n",
       "      <td>B0010-72_1</td>\n",
       "      <td>0</td>\n",
       "    </tr>\n",
       "  </tbody>\n",
       "</table>\n",
       "</div>"
      ],
      "text/plain": [
       "         NE              endTime  resource_utilition_rate        TA   \n",
       "0  B0010-72  2023-02-09 01:00:00                    1.025  3.389423  \\\n",
       "1  B0010-72  2023-02-09 02:00:00                    0.854  3.006494   \n",
       "2  B0010-72  2023-02-09 03:00:00                    0.819  3.307018   \n",
       "3  B0010-72  2023-02-09 04:00:00                    0.823  2.185185   \n",
       "4  B0010-72  2023-02-09 05:00:00                    0.893  2.350515   \n",
       "\n",
       "        bler       cqi       mcs  data_rate  fault_duration  relation ID   \n",
       "0  10.727969  7.492512  3.002243  17.988247             0.0       0.0  1  \\\n",
       "1   8.157557  7.882693  1.758560  12.360708             0.0       0.0  1   \n",
       "2  17.902962  7.672714  1.140774  10.075042             0.0       0.0  1   \n",
       "3   8.175228  7.193010  2.903567  21.281706             0.0       0.0  1   \n",
       "4   7.645895  8.975481  5.679832  16.526131             0.0       0.0  1   \n",
       "\n",
       "        NE_ID  target  \n",
       "0  B0010-72_1       0  \n",
       "1  B0010-72_1       0  \n",
       "2  B0010-72_1       0  \n",
       "3  B0010-72_1       0  \n",
       "4  B0010-72_1       0  "
      ]
     },
     "execution_count": 34,
     "metadata": {},
     "output_type": "execute_result"
    }
   ],
   "source": [
    "train_df.head()"
   ]
  },
  {
   "cell_type": "code",
   "execution_count": 35,
   "id": "ff40a12a",
   "metadata": {},
   "outputs": [
    {
     "data": {
      "text/html": [
       "<div>\n",
       "<style scoped>\n",
       "    .dataframe tbody tr th:only-of-type {\n",
       "        vertical-align: middle;\n",
       "    }\n",
       "\n",
       "    .dataframe tbody tr th {\n",
       "        vertical-align: top;\n",
       "    }\n",
       "\n",
       "    .dataframe thead th {\n",
       "        text-align: right;\n",
       "    }\n",
       "</style>\n",
       "<table border=\"1\" class=\"dataframe\">\n",
       "  <thead>\n",
       "    <tr style=\"text-align: right;\">\n",
       "      <th></th>\n",
       "      <th>NE</th>\n",
       "      <th>endTime</th>\n",
       "      <th>resource_utilition_rate</th>\n",
       "      <th>TA</th>\n",
       "      <th>bler</th>\n",
       "      <th>cqi</th>\n",
       "      <th>mcs</th>\n",
       "      <th>data_rate</th>\n",
       "      <th>fault_duration</th>\n",
       "      <th>relation</th>\n",
       "      <th>ID</th>\n",
       "      <th>NE_ID</th>\n",
       "    </tr>\n",
       "  </thead>\n",
       "  <tbody>\n",
       "    <tr>\n",
       "      <th>0</th>\n",
       "      <td>B0017-32</td>\n",
       "      <td>2023-02-19 11:00:00</td>\n",
       "      <td>60.941</td>\n",
       "      <td>2.727843</td>\n",
       "      <td>12.841164</td>\n",
       "      <td>6.161731</td>\n",
       "      <td>6.602028</td>\n",
       "      <td>3.161234</td>\n",
       "      <td>0.0</td>\n",
       "      <td>0.0</td>\n",
       "      <td>10</td>\n",
       "      <td>B0017-32_10</td>\n",
       "    </tr>\n",
       "    <tr>\n",
       "      <th>1</th>\n",
       "      <td>B0017-32</td>\n",
       "      <td>2023-02-19 12:00:00</td>\n",
       "      <td>-1.000</td>\n",
       "      <td>-1.000000</td>\n",
       "      <td>-1.000000</td>\n",
       "      <td>-1.000000</td>\n",
       "      <td>-1.000000</td>\n",
       "      <td>-1.000000</td>\n",
       "      <td>-1.0</td>\n",
       "      <td>-1.0</td>\n",
       "      <td>10</td>\n",
       "      <td>B0017-32_10</td>\n",
       "    </tr>\n",
       "    <tr>\n",
       "      <th>2</th>\n",
       "      <td>B0073-45</td>\n",
       "      <td>2023-02-19 13:00:00</td>\n",
       "      <td>8.294</td>\n",
       "      <td>2.357810</td>\n",
       "      <td>9.107972</td>\n",
       "      <td>7.166678</td>\n",
       "      <td>6.187408</td>\n",
       "      <td>6.932266</td>\n",
       "      <td>0.0</td>\n",
       "      <td>0.0</td>\n",
       "      <td>24</td>\n",
       "      <td>B0073-45_24</td>\n",
       "    </tr>\n",
       "    <tr>\n",
       "      <th>3</th>\n",
       "      <td>B0073-45</td>\n",
       "      <td>2023-02-19 14:00:00</td>\n",
       "      <td>-1.000</td>\n",
       "      <td>-1.000000</td>\n",
       "      <td>-1.000000</td>\n",
       "      <td>-1.000000</td>\n",
       "      <td>-1.000000</td>\n",
       "      <td>-1.000000</td>\n",
       "      <td>-1.0</td>\n",
       "      <td>-1.0</td>\n",
       "      <td>24</td>\n",
       "      <td>B0073-45_24</td>\n",
       "    </tr>\n",
       "    <tr>\n",
       "      <th>4</th>\n",
       "      <td>B0093-23</td>\n",
       "      <td>2023-02-19 19:00:00</td>\n",
       "      <td>56.760</td>\n",
       "      <td>1.037665</td>\n",
       "      <td>11.913121</td>\n",
       "      <td>8.925502</td>\n",
       "      <td>11.309321</td>\n",
       "      <td>25.287751</td>\n",
       "      <td>0.0</td>\n",
       "      <td>0.0</td>\n",
       "      <td>21</td>\n",
       "      <td>B0093-23_21</td>\n",
       "    </tr>\n",
       "  </tbody>\n",
       "</table>\n",
       "</div>"
      ],
      "text/plain": [
       "         NE              endTime  resource_utilition_rate        TA   \n",
       "0  B0017-32  2023-02-19 11:00:00                   60.941  2.727843  \\\n",
       "1  B0017-32  2023-02-19 12:00:00                   -1.000 -1.000000   \n",
       "2  B0073-45  2023-02-19 13:00:00                    8.294  2.357810   \n",
       "3  B0073-45  2023-02-19 14:00:00                   -1.000 -1.000000   \n",
       "4  B0093-23  2023-02-19 19:00:00                   56.760  1.037665   \n",
       "\n",
       "        bler       cqi        mcs  data_rate  fault_duration  relation  ID   \n",
       "0  12.841164  6.161731   6.602028   3.161234             0.0       0.0  10  \\\n",
       "1  -1.000000 -1.000000  -1.000000  -1.000000            -1.0      -1.0  10   \n",
       "2   9.107972  7.166678   6.187408   6.932266             0.0       0.0  24   \n",
       "3  -1.000000 -1.000000  -1.000000  -1.000000            -1.0      -1.0  24   \n",
       "4  11.913121  8.925502  11.309321  25.287751             0.0       0.0  21   \n",
       "\n",
       "         NE_ID  \n",
       "0  B0017-32_10  \n",
       "1  B0017-32_10  \n",
       "2  B0073-45_24  \n",
       "3  B0073-45_24  \n",
       "4  B0093-23_21  "
      ]
     },
     "execution_count": 35,
     "metadata": {},
     "output_type": "execute_result"
    }
   ],
   "source": [
    "test_df.head()"
   ]
  },
  {
   "cell_type": "code",
   "execution_count": 36,
   "id": "b36a7efc",
   "metadata": {},
   "outputs": [
    {
     "data": {
      "text/html": [
       "<div>\n",
       "<style scoped>\n",
       "    .dataframe tbody tr th:only-of-type {\n",
       "        vertical-align: middle;\n",
       "    }\n",
       "\n",
       "    .dataframe tbody tr th {\n",
       "        vertical-align: top;\n",
       "    }\n",
       "\n",
       "    .dataframe thead th {\n",
       "        text-align: right;\n",
       "    }\n",
       "</style>\n",
       "<table border=\"1\" class=\"dataframe\">\n",
       "  <thead>\n",
       "    <tr style=\"text-align: right;\">\n",
       "      <th></th>\n",
       "      <th>ID</th>\n",
       "      <th>data_rate_t+1_trend</th>\n",
       "    </tr>\n",
       "  </thead>\n",
       "  <tbody>\n",
       "    <tr>\n",
       "      <th>0</th>\n",
       "      <td>B0017-25_24</td>\n",
       "      <td>0</td>\n",
       "    </tr>\n",
       "    <tr>\n",
       "      <th>1</th>\n",
       "      <td>B0017-25_25</td>\n",
       "      <td>0</td>\n",
       "    </tr>\n",
       "    <tr>\n",
       "      <th>2</th>\n",
       "      <td>B0017-25_26</td>\n",
       "      <td>0</td>\n",
       "    </tr>\n",
       "    <tr>\n",
       "      <th>3</th>\n",
       "      <td>B0017-25_27</td>\n",
       "      <td>0</td>\n",
       "    </tr>\n",
       "    <tr>\n",
       "      <th>4</th>\n",
       "      <td>B0017-32_1</td>\n",
       "      <td>0</td>\n",
       "    </tr>\n",
       "    <tr>\n",
       "      <th>...</th>\n",
       "      <td>...</td>\n",
       "      <td>...</td>\n",
       "    </tr>\n",
       "    <tr>\n",
       "      <th>1927</th>\n",
       "      <td>B0122-43_1</td>\n",
       "      <td>0</td>\n",
       "    </tr>\n",
       "    <tr>\n",
       "      <th>1928</th>\n",
       "      <td>B0122-43_2</td>\n",
       "      <td>0</td>\n",
       "    </tr>\n",
       "    <tr>\n",
       "      <th>1929</th>\n",
       "      <td>B0122-45_1</td>\n",
       "      <td>0</td>\n",
       "    </tr>\n",
       "    <tr>\n",
       "      <th>1930</th>\n",
       "      <td>B0122-45_2</td>\n",
       "      <td>0</td>\n",
       "    </tr>\n",
       "    <tr>\n",
       "      <th>1931</th>\n",
       "      <td>B0122-45_3</td>\n",
       "      <td>0</td>\n",
       "    </tr>\n",
       "  </tbody>\n",
       "</table>\n",
       "<p>1932 rows × 2 columns</p>\n",
       "</div>"
      ],
      "text/plain": [
       "               ID  data_rate_t+1_trend\n",
       "0     B0017-25_24                    0\n",
       "1     B0017-25_25                    0\n",
       "2     B0017-25_26                    0\n",
       "3     B0017-25_27                    0\n",
       "4      B0017-32_1                    0\n",
       "...           ...                  ...\n",
       "1927   B0122-43_1                    0\n",
       "1928   B0122-43_2                    0\n",
       "1929   B0122-45_1                    0\n",
       "1930   B0122-45_2                    0\n",
       "1931   B0122-45_3                    0\n",
       "\n",
       "[1932 rows x 2 columns]"
      ]
     },
     "execution_count": 36,
     "metadata": {},
     "output_type": "execute_result"
    }
   ],
   "source": [
    "ss_df"
   ]
  },
  {
   "cell_type": "code",
   "execution_count": 37,
   "id": "1a2add51",
   "metadata": {},
   "outputs": [
    {
     "data": {
      "text/plain": [
       "((823053, 13), (174723, 12))"
      ]
     },
     "execution_count": 37,
     "metadata": {},
     "output_type": "execute_result"
    }
   ],
   "source": [
    "train_df.shape, test_df.shape"
   ]
  },
  {
   "cell_type": "code",
   "execution_count": null,
   "id": "9a3799f2",
   "metadata": {},
   "outputs": [],
   "source": []
  }
 ],
 "metadata": {
  "kernelspec": {
   "display_name": "Python 3 (ipykernel)",
   "language": "python",
   "name": "python3"
  },
  "language_info": {
   "codemirror_mode": {
    "name": "ipython",
    "version": 3
   },
   "file_extension": ".py",
   "mimetype": "text/x-python",
   "name": "python",
   "nbconvert_exporter": "python",
   "pygments_lexer": "ipython3",
   "version": "3.10.12"
  }
 },
 "nbformat": 4,
 "nbformat_minor": 5
}
